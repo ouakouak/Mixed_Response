{
 "cells": [
  {
   "cell_type": "markdown",
   "id": "2f2c8ecf",
   "metadata": {},
   "source": [
    "# Nettoyage de la base de données"
   ]
  },
  {
   "cell_type": "code",
   "execution_count": 1,
   "id": "a86f1219",
   "metadata": {},
   "outputs": [],
   "source": [
    "import pandas as pd"
   ]
  },
  {
   "cell_type": "markdown",
   "id": "b6d4cb52",
   "metadata": {},
   "source": [
    "Chargement la base de données"
   ]
  },
  {
   "cell_type": "code",
   "execution_count": null,
   "id": "39728eb5",
   "metadata": {},
   "outputs": [],
   "source": [
    "fichier = \"../bases/CSV_Reponse_dissociee_stagiaire_20-patients.csv\"\n",
    "\n",
    "df = pd.read_csv(fichier,encoding=\"ISO-8859-1\")\n",
    "\n",
    "df.head()  # Premières lignes du DataFrame"
   ]
  },
  {
   "cell_type": "code",
   "execution_count": 22,
   "id": "f18ec2e5",
   "metadata": {},
   "outputs": [],
   "source": [
    "df_dissociee = df[df[\"rep_dissociee\"] == \"DISSOCIEE\"]\n"
   ]
  },
  {
   "cell_type": "code",
   "execution_count": 24,
   "id": "1cb7bd85",
   "metadata": {},
   "outputs": [
    {
     "name": "stdout",
     "output_type": "stream",
     "text": [
      "Nombre total de consultation où réponse dissociée est mentionnée: 8\n"
     ]
    }
   ],
   "source": [
    "# Récupérer les couples uniques (patient, date)\n",
    "couples_uniques = df_dissociee[[\"pseudo_patient_num\", \"doc_date\"]].drop_duplicates()\n",
    "\n",
    "# Compter le nombre de couples distincts\n",
    "nb_couples_dissocies = len(couples_uniques)\n",
    "\n",
    "print(f\"Nombre total de consultation où réponse dissociée est mentionnée: {nb_couples_dissocies}\")# Grouper par patient + date et compter les occurrences"
   ]
  },
  {
   "cell_type": "code",
   "execution_count": 16,
   "id": "382d44db",
   "metadata": {},
   "outputs": [
    {
     "name": "stdout",
     "output_type": "stream",
     "text": [
      " Nombre de patients ayant eu au moins une réponse dissociée mentionnée: 6\n"
     ]
    }
   ],
   "source": [
    "nb_patients_dissociee = df_dissociee[\"pseudo_patient_num\"].nunique()\n",
    "\n",
    "print(f\" Nombre de patients ayant eu au moins une réponse dissociée mentionnée: {nb_patients_dissociee}\")"
   ]
  }
 ],
 "metadata": {
  "kernelspec": {
   "display_name": "Python 3",
   "language": "python",
   "name": "python3"
  },
  "language_info": {
   "codemirror_mode": {
    "name": "ipython",
    "version": 3
   },
   "file_extension": ".py",
   "mimetype": "text/x-python",
   "name": "python",
   "nbconvert_exporter": "python",
   "pygments_lexer": "ipython3",
   "version": "3.11.9"
  }
 },
 "nbformat": 4,
 "nbformat_minor": 5
}
